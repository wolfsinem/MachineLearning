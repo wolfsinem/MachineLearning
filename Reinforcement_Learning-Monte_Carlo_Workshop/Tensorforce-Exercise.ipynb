{
 "cells": [
  {
   "cell_type": "markdown",
   "metadata": {},
   "source": [
    "# Tensorforce"
   ]
  },
  {
   "cell_type": "markdown",
   "metadata": {},
   "source": [
    "### Why Tensorforce?\n",
    "We've seen how we can create a model using Tensorflow (Keras). Works great, but it can be done easier. \n",
    "This is where Tensorforce comes in. Tensorforce is an open-source deep reinforcement learning framework, with an emphasis on modularized flexible library design and straightforward usability for applications in research and practice. Tensorforce is built on top of Google’s TensorFlow framework version 2.0 (!) and compatible with Python 3. Models created with TensorForce can be used in any language with the Tensorflow API."
   ]
  },
  {
   "cell_type": "code",
   "execution_count": 1,
   "metadata": {},
   "outputs": [],
   "source": [
    "# Imports\n",
    "import os\n",
    "import logging\n",
    "\n",
    "import tensorflow as tf\n",
    "\n",
    "from tensorforce.agents import Agent\n",
    "from tensorforce.environments import Environment\n",
    "from tensorforce.execution import Runner\n",
    "\n",
    "import numpy as np"
   ]
  },
  {
   "cell_type": "code",
   "execution_count": 2,
   "metadata": {},
   "outputs": [],
   "source": [
    "# Set logging settings\n",
    "os.environ['TF_CPP_MIN_LOG_LEVEL'] = '3'\n",
    "logger = tf.get_logger()\n",
    "logger.setLevel(logging.ERROR)"
   ]
  },
  {
   "cell_type": "markdown",
   "metadata": {},
   "source": [
    "### Assignment\n",
    "Use the Tensorforce library to create a similar model to the one made in the previous exercise, with the CartPole-v1 environment from OpenAI gym. All needed imports are already there.  \n",
    "Documentation for creating the agent and environment:\n",
    "https://tensorforce.readthedocs.io/en/0.5.4/basics/getting-started.html"
   ]
  },
  {
   "cell_type": "code",
   "execution_count": 4,
   "metadata": {},
   "outputs": [],
   "source": [
    "# Create an OpenAI-Gym environment using the imported `Environment` class from Tensorforce.\n",
    "environment = Environment.create(environment='gym', level='CartPole-v1')"
   ]
  },
  {
   "cell_type": "code",
   "execution_count": 5,
   "metadata": {},
   "outputs": [],
   "source": [
    "# Create the agent using the imported `Agent` class from Tensorforce.\n",
    "agent = Agent.create(\n",
    "    agent='ppo', environment=environment, batch_size=10, learning_rate=1e-3\n",
    ")"
   ]
  },
  {
   "cell_type": "code",
   "execution_count": 6,
   "metadata": {},
   "outputs": [],
   "source": [
    "# Initialize the runner\n",
    "runner = Runner(agent=agent, environment=environment)"
   ]
  },
  {
   "cell_type": "code",
   "execution_count": 7,
   "metadata": {},
   "outputs": [
    {
     "name": "stderr",
     "output_type": "stream",
     "text": "Episodes: 100%|██████████| 300/300 [01:11, reward=268.00, ts/ep=268, sec/ep=0.30, ms/ts=1.1, agent=92.2%]\n"
    }
   ],
   "source": [
    "# Start the runner\n",
    "runner.run(num_episodes=300)\n",
    "runner.close()"
   ]
  },
  {
   "cell_type": "code",
   "execution_count": 8,
   "metadata": {},
   "outputs": [
    {
     "name": "stdout",
     "output_type": "stream",
     "text": "Learning finished. Total episodes: 300. Average reward of last 100 episodes: 260.05\n"
    }
   ],
   "source": [
    "# Print statistics\n",
    "print(f\"Learning finished. Total episodes: {runner.episodes}. Average reward of last 100 episodes: {np.mean(runner.episode_rewards[-100:])}\")"
   ]
  },
  {
   "cell_type": "code",
   "execution_count": 9,
   "metadata": {},
   "outputs": [
    {
     "name": "stderr",
     "output_type": "stream",
     "text": "Episodes: 100%|██████████| 100/100 [02:49, reward=440.00, ts/ep=440, sec/ep=0.78, ms/ts=1.8, agent=58.0%]"
    }
   ],
   "source": [
    "# Evaluate and visualize model\n",
    "environment.visualize = True\n",
    "runner.run(num_episodes=100, evaluation=True)"
   ]
  },
  {
   "cell_type": "markdown",
   "metadata": {},
   "source": [
    "### References\n",
    "- Tensorforce. (n.d.). Getting started — Tensorforce 0.5.4 documentation. Retrieved March 3, 2020, from https://tensorforce.readthedocs.io/en/0.5.4/basics/getting-started.html\n",
    "- Tensorforce (0.5.4). (2020). Retrieved March 3, 2020, from https://github.com/tensorforce/tensorforce"
   ]
  }
 ],
 "metadata": {
  "kernelspec": {
   "display_name": "Python 3.7.0 64-bit",
   "language": "python",
   "name": "python37064bit340b1dd18d7448879865f8d7ce8f8553"
  },
  "language_info": {
   "codemirror_mode": {
    "name": "ipython",
    "version": 3
   },
   "file_extension": ".py",
   "mimetype": "text/x-python",
   "name": "python",
   "nbconvert_exporter": "python",
   "pygments_lexer": "ipython3",
   "version": "2.7.15-final"
  }
 },
 "nbformat": 4,
 "nbformat_minor": 2
}