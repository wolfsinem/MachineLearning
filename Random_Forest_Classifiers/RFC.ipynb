{
 "cells": [
  {
   "cell_type": "markdown",
   "metadata": {},
   "source": [
    "## Bouwen van een Decision Tree\n",
    "Doe het volgende:\n",
    "- Laad de Titanic Data set;\n",
    "- Bepaal (op het oog) de belangrijkste 3 variabelen waarmee je zou kunnen bepalen of iemand overleeft;\n",
    "- Implementeer de Entropy-formule van hierboven, en bepaal de Entropy van elk van deze drie variabelen."
   ]
  },
  {
   "cell_type": "code",
   "execution_count": 1,
   "metadata": {},
   "outputs": [],
   "source": [
    "import os\n",
    "import pandas as pd\n",
    "import numpy as np\n",
    "import seaborn as sns\n",
    "import matplotlib.pyplot as plt\n",
    "%matplotlib inline"
   ]
  },
  {
   "cell_type": "code",
   "execution_count": 2,
   "metadata": {},
   "outputs": [
    {
     "data": {
      "text/html": "<div>\n<style scoped>\n    .dataframe tbody tr th:only-of-type {\n        vertical-align: middle;\n    }\n\n    .dataframe tbody tr th {\n        vertical-align: top;\n    }\n\n    .dataframe thead th {\n        text-align: right;\n    }\n</style>\n<table border=\"1\" class=\"dataframe\">\n  <thead>\n    <tr style=\"text-align: right;\">\n      <th></th>\n      <th>PassengerId</th>\n      <th>Survived</th>\n      <th>Pclass</th>\n      <th>Name</th>\n      <th>Sex</th>\n      <th>Age</th>\n      <th>SibSp</th>\n      <th>Parch</th>\n      <th>Ticket</th>\n      <th>Fare</th>\n      <th>Cabin</th>\n      <th>Embarked</th>\n    </tr>\n  </thead>\n  <tbody>\n    <tr>\n      <th>0</th>\n      <td>1</td>\n      <td>0</td>\n      <td>3</td>\n      <td>Braund, Mr. Owen Harris</td>\n      <td>male</td>\n      <td>22.0</td>\n      <td>1</td>\n      <td>0</td>\n      <td>A/5 21171</td>\n      <td>7.2500</td>\n      <td>NaN</td>\n      <td>S</td>\n    </tr>\n    <tr>\n      <th>1</th>\n      <td>2</td>\n      <td>1</td>\n      <td>1</td>\n      <td>Cumings, Mrs. John Bradley (Florence Briggs Th...</td>\n      <td>female</td>\n      <td>38.0</td>\n      <td>1</td>\n      <td>0</td>\n      <td>PC 17599</td>\n      <td>71.2833</td>\n      <td>C85</td>\n      <td>C</td>\n    </tr>\n    <tr>\n      <th>2</th>\n      <td>3</td>\n      <td>1</td>\n      <td>3</td>\n      <td>Heikkinen, Miss. Laina</td>\n      <td>female</td>\n      <td>26.0</td>\n      <td>0</td>\n      <td>0</td>\n      <td>STON/O2. 3101282</td>\n      <td>7.9250</td>\n      <td>NaN</td>\n      <td>S</td>\n    </tr>\n    <tr>\n      <th>3</th>\n      <td>4</td>\n      <td>1</td>\n      <td>1</td>\n      <td>Futrelle, Mrs. Jacques Heath (Lily May Peel)</td>\n      <td>female</td>\n      <td>35.0</td>\n      <td>1</td>\n      <td>0</td>\n      <td>113803</td>\n      <td>53.1000</td>\n      <td>C123</td>\n      <td>S</td>\n    </tr>\n    <tr>\n      <th>4</th>\n      <td>5</td>\n      <td>0</td>\n      <td>3</td>\n      <td>Allen, Mr. William Henry</td>\n      <td>male</td>\n      <td>35.0</td>\n      <td>0</td>\n      <td>0</td>\n      <td>373450</td>\n      <td>8.0500</td>\n      <td>NaN</td>\n      <td>S</td>\n    </tr>\n  </tbody>\n</table>\n</div>",
      "text/plain": "   PassengerId  Survived  Pclass  \\\n0            1         0       3   \n1            2         1       1   \n2            3         1       3   \n3            4         1       1   \n4            5         0       3   \n\n                                                Name     Sex   Age  SibSp  \\\n0                            Braund, Mr. Owen Harris    male  22.0      1   \n1  Cumings, Mrs. John Bradley (Florence Briggs Th...  female  38.0      1   \n2                             Heikkinen, Miss. Laina  female  26.0      0   \n3       Futrelle, Mrs. Jacques Heath (Lily May Peel)  female  35.0      1   \n4                           Allen, Mr. William Henry    male  35.0      0   \n\n   Parch            Ticket     Fare Cabin Embarked  \n0      0         A/5 21171   7.2500   NaN        S  \n1      0          PC 17599  71.2833   C85        C  \n2      0  STON/O2. 3101282   7.9250   NaN        S  \n3      0            113803  53.1000  C123        S  \n4      0            373450   8.0500   NaN        S  "
     },
     "execution_count": 2,
     "metadata": {},
     "output_type": "execute_result"
    }
   ],
   "source": [
    "# Load Titanic Data set\n",
    "dataset = pd.read_csv('titanic.csv', sep='\\t')\n",
    "dataset.head()"
   ]
  },
  {
   "cell_type": "code",
   "execution_count": 3,
   "metadata": {},
   "outputs": [
    {
     "data": {
      "text/html": "<div>\n<style scoped>\n    .dataframe tbody tr th:only-of-type {\n        vertical-align: middle;\n    }\n\n    .dataframe tbody tr th {\n        vertical-align: top;\n    }\n\n    .dataframe thead th {\n        text-align: right;\n    }\n</style>\n<table border=\"1\" class=\"dataframe\">\n  <thead>\n    <tr style=\"text-align: right;\">\n      <th></th>\n      <th>Age</th>\n      <th>Fare</th>\n      <th>Sex</th>\n    </tr>\n  </thead>\n  <tbody>\n    <tr>\n      <th>0</th>\n      <td>22.0</td>\n      <td>7.2500</td>\n      <td>male</td>\n    </tr>\n    <tr>\n      <th>1</th>\n      <td>38.0</td>\n      <td>71.2833</td>\n      <td>female</td>\n    </tr>\n    <tr>\n      <th>2</th>\n      <td>26.0</td>\n      <td>7.9250</td>\n      <td>female</td>\n    </tr>\n    <tr>\n      <th>3</th>\n      <td>35.0</td>\n      <td>53.1000</td>\n      <td>female</td>\n    </tr>\n    <tr>\n      <th>4</th>\n      <td>35.0</td>\n      <td>8.0500</td>\n      <td>male</td>\n    </tr>\n    <tr>\n      <th>...</th>\n      <td>...</td>\n      <td>...</td>\n      <td>...</td>\n    </tr>\n    <tr>\n      <th>151</th>\n      <td>22.0</td>\n      <td>66.6000</td>\n      <td>female</td>\n    </tr>\n    <tr>\n      <th>152</th>\n      <td>55.5</td>\n      <td>8.0500</td>\n      <td>male</td>\n    </tr>\n    <tr>\n      <th>153</th>\n      <td>40.5</td>\n      <td>14.5000</td>\n      <td>male</td>\n    </tr>\n    <tr>\n      <th>154</th>\n      <td>NaN</td>\n      <td>7.3125</td>\n      <td>male</td>\n    </tr>\n    <tr>\n      <th>155</th>\n      <td>51.0</td>\n      <td>61.3792</td>\n      <td>male</td>\n    </tr>\n  </tbody>\n</table>\n<p>156 rows × 3 columns</p>\n</div>",
      "text/plain": "      Age     Fare     Sex\n0    22.0   7.2500    male\n1    38.0  71.2833  female\n2    26.0   7.9250  female\n3    35.0  53.1000  female\n4    35.0   8.0500    male\n..    ...      ...     ...\n151  22.0  66.6000  female\n152  55.5   8.0500    male\n153  40.5  14.5000    male\n154   NaN   7.3125    male\n155  51.0  61.3792    male\n\n[156 rows x 3 columns]"
     },
     "execution_count": 3,
     "metadata": {},
     "output_type": "execute_result"
    }
   ],
   "source": [
    "# Determine best classification variables for Survival\n",
    "dataset[['Age','Fare','Sex']]"
   ]
  },
  {
   "cell_type": "code",
   "execution_count": 4,
   "metadata": {},
   "outputs": [],
   "source": [
    "# Implement Entropy\n",
    "\n",
    "# totaal aantal datapunten (100)\n",
    "# totaal bv. positief (30) = 30/100 = 3/10\n",
    "# totaal bv. negatief (70) = 70/100 = 7/10\n",
    "# -3/10 x log2(3/10) - 7/10 x log2(7/100) = 0.88 dit is een hoge entropy omdat het gemeten wordt van 0 tot 1. \n",
    "\n",
    "def entropy(total,a,b):\n",
    "    formule = -(a/total * np.log2(a/total)) - (b/total * np.log2(b/total))\n",
    "    return formule"
   ]
  },
  {
   "cell_type": "code",
   "execution_count": 30,
   "metadata": {},
   "outputs": [],
   "source": [
    "# Calculate and show Entropy of selected variables\n",
    "\n",
    "# survived = dataset.loc[dataset['Survived'] == 1]\n",
    "# not_survived = dataset.loc[dataset['Survived'] == 0]\n",
    "\n",
    "# survived_count = survived['Survived'].count()\n",
    "# not_survived_count = not_survived['Survived'].count()\n",
    "# totaal = dataset['Survived'].count()"
   ]
  },
  {
   "cell_type": "code",
   "execution_count": 39,
   "metadata": {},
   "outputs": [],
   "source": [
    "female_survivers = dataset[(dataset.Sex == 'female') | (dataset.Survived == 1)]\n",
    "male_survivers = dataset[(dataset.Sex == 'male') | (dataset.Survived == 1)]\n",
    "\n",
    "total_female_survivers = len(female_survivers)\n",
    "total_male_survivers = len(male_survivers)\n",
    "\n",
    "#--------------------------------------------------------------------------------\n",
    "female_dead = dataset[(dataset.Sex == 'female') | (dataset.Survived == 0)]\n",
    "male_dead = dataset[(dataset.Sex == 'male') | (dataset.Survived == 0)]\n",
    "\n",
    "total_female_dead = len(female_dead)\n",
    "total_male_dead= len(male_dead)\n",
    "\n",
    "#--------------------------------------------------------------------------------\n",
    "all_female = total_female_survivers + total_male_survivers\n",
    "all_male = total_male_survivers + total_male_dead"
   ]
  },
  {
   "cell_type": "code",
   "execution_count": 40,
   "metadata": {},
   "outputs": [
    {
     "name": "stdout",
     "output_type": "stream",
     "text": "Entropy variables female and survival: 0.9100292742352643\nEntropy variables male and survival: 0.9936507116910404\n"
    }
   ],
   "source": [
    "print(\"Entropy variables female and survival: {}\".format(entropy(all_female,total_female_survivers,total_female_dead)))\n",
    "\n",
    "print(\"Entropy variables male and survival: {}\".format(entropy(all_male,total_male_survivers,total_male_dead)))"
   ]
  },
  {
   "cell_type": "code",
   "execution_count": 56,
   "metadata": {},
   "outputs": [],
   "source": [
    "# females that died who payed >20k fare \n",
    "# int_df = dataset[\"Fare\"].astype(int)\n",
    "\n",
    "# female_dead_fare = dataset[(dataset.Sex == 'female') | (dataset.Survived == 0) | (dataset.Fare >= 40)]"
   ]
  },
  {
   "cell_type": "code",
   "execution_count": 6,
   "metadata": {},
   "outputs": [],
   "source": [
    "# Bouw een decision tree (https://scikit-learn.org/stable/modules/generated/sklearn.tree.DecisionTreeClassifier.html)\n",
    "# Kiest je sklearn model ook voor dezelfde root-variabele?"
   ]
  }
 ],
 "metadata": {
  "kernelspec": {
   "display_name": "Python 3.8.0 64-bit",
   "language": "python",
   "name": "python38064bit94409e1e4df94da1b5cc700cc0e6ab29"
  },
  "language_info": {
   "codemirror_mode": {
    "name": "ipython",
    "version": 3
   },
   "file_extension": ".py",
   "mimetype": "text/x-python",
   "name": "python",
   "nbconvert_exporter": "python",
   "pygments_lexer": "ipython3",
   "version": "3.8.0-final"
  }
 },
 "nbformat": 4,
 "nbformat_minor": 2
}